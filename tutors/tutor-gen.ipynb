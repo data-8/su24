{
 "cells": [
  {
   "cell_type": "code",
   "execution_count": 67,
   "metadata": {},
   "outputs": [
    {
     "data": {
      "text/plain": [
       "'https://www.youtube.com/watch?v=dQw4w9WgXcQ&ab_channel=RickAstley'"
      ]
     },
     "execution_count": 67,
     "metadata": {},
     "output_type": "execute_result"
    }
   ],
   "source": [
    "import pandas as pd, numpy as np, os\n",
    "staff = pd.read_csv('staff.csv')\n",
    "staff =  staff.iloc[:, [1, 6, 7, 8, 9, 10, 11]]\n",
    "staff.columns = [\"email\", \"nme\", \"pronouns\", \"photo\", \"link\", \"bio\", \"role\"]\n",
    "tutors = staff[staff.role == 'Tutor (UCS1)']"
   ]
  },
  {
   "cell_type": "code",
   "execution_count": 71,
   "metadata": {},
   "outputs": [],
   "source": [
    "for tutor in tutors.iterrows():\n",
    "    tutor = tutor[1]\n",
    "    fn = f\"{tutor.nme.split()[0]}_{tutor.nme.split()[1][1]}.md\".lower()\n",
    "    tutor_str = f\"\"\"---\n",
    "email: {tutor.email}\n",
    "name: {tutor.nme}\n",
    "pronouns: {\"\" if pd.isnull(tutor.pronouns) else tutor.pronouns.upper()}\n",
    "photo: \"staff/{tutor.nme.split()[0].lower()}_{tutor.nme.split()[1][1].lower()}.jpeg\"\n",
    "\"\"\"\n",
    "    if not pd.isnull(tutor.link):\n",
    "        tutor_str += f\"website: {tutor.link}\"\n",
    "    tutor_str += f\"\"\"bio: {tutor.bio}\n",
    "role: Tutor (UCS1)\n",
    "office-hours: TBA\n",
    "---\n",
    "\"\"\"\n",
    "    with open(f\"../_staffers/{fn}\", \"w\") as f:\n",
    "        f.write(tutor_str)"
   ]
  },
  {
   "cell_type": "code",
   "execution_count": null,
   "metadata": {},
   "outputs": [],
   "source": []
  }
 ],
 "metadata": {
  "kernelspec": {
   "display_name": "Python 3",
   "language": "python",
   "name": "python3"
  },
  "language_info": {
   "codemirror_mode": {
    "name": "ipython",
    "version": 3
   },
   "file_extension": ".py",
   "mimetype": "text/x-python",
   "name": "python",
   "nbconvert_exporter": "python",
   "pygments_lexer": "ipython3",
   "version": "3.10.1"
  }
 },
 "nbformat": 4,
 "nbformat_minor": 2
}
